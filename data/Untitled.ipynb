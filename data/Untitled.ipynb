{
 "cells": [
  {
   "cell_type": "code",
   "execution_count": 4,
   "metadata": {},
   "outputs": [
    {
     "data": {
      "text/plain": [
       "'2.3'"
      ]
     },
     "execution_count": 4,
     "metadata": {},
     "output_type": "execute_result"
    }
   ],
   "source": [
    "import networkx as nx\n",
    "nx.__version__"
   ]
  },
  {
   "cell_type": "code",
   "execution_count": 7,
   "metadata": {},
   "outputs": [
    {
     "name": "stdout",
     "output_type": "stream",
     "text": [
      "1 4 {'type': 1, 'id': 1}\n",
      "1 5 {'type': 1, 'id': 2}\n",
      "1 6 {'type': 1, 'id': 3}\n",
      "1 7 {'type': 1, 'id': 4}\n",
      "1 9 {'type': 2, 'id': 28}\n",
      "1 10 {'type': 2, 'id': 29}\n",
      "1 11 {'type': 2, 'id': 30}\n",
      "1 12 {'type': 2, 'id': 31}\n",
      "4 7 {'type': 3, 'id': 14}\n",
      "4 2 {'type': 2, 'id': 23}\n",
      "5 7 {'type': 3, 'id': 15}\n",
      "5 11 {'type': 3, 'id': 20}\n",
      "5 2 {'type': 2, 'id': 24}\n",
      "6 8 {'type': 3, 'id': 16}\n",
      "6 9 {'type': 3, 'id': 17}\n",
      "6 11 {'type': 3, 'id': 22}\n",
      "6 2 {'type': 2, 'id': 25}\n",
      "7 2 {'type': 1, 'id': 5}\n",
      "7 12 {'type': 3, 'id': 18}\n",
      "7 3 {'type': 2, 'id': 26}\n",
      "2 8 {'type': 1, 'id': 6}\n",
      "2 9 {'type': 1, 'id': 7}\n",
      "2 10 {'type': 1, 'id': 8}\n",
      "2 11 {'type': 1, 'id': 9}\n",
      "8 12 {'type': 3, 'id': 19}\n",
      "8 10 {'type': 3, 'id': 21}\n",
      "8 3 {'type': 2, 'id': 27}\n",
      "9 3 {'type': 1, 'id': 10}\n",
      "10 3 {'type': 1, 'id': 11}\n",
      "11 3 {'type': 1, 'id': 12}\n",
      "3 12 {'type': 1, 'id': 13}\n"
     ]
    }
   ],
   "source": [
    "g = nx.read_edgelist(\n",
    "    'data.csv',\n",
    "    nodetype=str,\n",
    "    data=(('type', int), ('id', int)),\n",
    "    create_using=nx.Graph,\n",
    ")\n",
    "\n",
    "for u,v,d in g.edges(data=True):\n",
    "    print(u,v,d)"
   ]
  }
 ],
 "metadata": {
  "kernelspec": {
   "display_name": "Python 3",
   "language": "python",
   "name": "python3"
  },
  "language_info": {
   "codemirror_mode": {
    "name": "ipython",
    "version": 3
   },
   "file_extension": ".py",
   "mimetype": "text/x-python",
   "name": "python",
   "nbconvert_exporter": "python",
   "pygments_lexer": "ipython3",
   "version": "3.7.3"
  }
 },
 "nbformat": 4,
 "nbformat_minor": 2
}
